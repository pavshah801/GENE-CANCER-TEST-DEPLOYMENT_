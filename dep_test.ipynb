{
 "cells": [
  {
   "cell_type": "markdown",
   "metadata": {
    "id": "hVjYPM6u767C"
   },
   "source": [
    "# Libraries and functions"
   ]
  },
  {
   "cell_type": "code",
   "execution_count": 19,
   "metadata": {
    "id": "nJ07UbAl767O"
   },
   "outputs": [],
   "source": [
    "import pandas as pd\n",
    "import pickle\n",
    "import os\n",
    "from sklearn.linear_model import LogisticRegression\n",
    "from sklearn.ensemble import RandomForestClassifier,AdaBoostClassifier, GradientBoostingClassifier\n",
    "from sklearn.neighbors import KNeighborsClassifier\n",
    "from sklearn.feature_selection import SelectKBest,f_classif\n",
    "from sklearn.tree import DecisionTreeClassifier\n",
    "from sklearn.preprocessing import StandardScaler\n",
    "from sklearn.model_selection import train_test_split, GridSearchCV,RepeatedStratifiedKFold,cross_val_score\n",
    "from sklearn.metrics import log_loss, accuracy_score, classification_report\n",
    "from sklearn.cluster import DBSCAN\n",
    "from sklearn.preprocessing import MinMaxScaler\n",
    "from sklearn.manifold import Isomap\n",
    "from sklearn.decomposition import PCA"
   ]
  },
  {
   "cell_type": "markdown",
   "metadata": {
    "id": "12FNtNKyFisJ"
   },
   "source": [
    "# Deployment"
   ]
  },
  {
   "cell_type": "code",
   "execution_count": 20,
   "metadata": {
    "colab": {
     "base_uri": "https://localhost:8080/"
    },
    "id": "YVLZc749Fp97",
    "outputId": "b46f8499-97e1-4ab0-baa5-8f68fdac3b16"
   },
   "outputs": [
    {
     "name": "stdin",
     "output_type": "stream",
     "text": [
      "Choose control conditions: input 1-for small groups without healthy,2-for small group with healthy,3-for wide cancer groups with healthy\n",
      " 3\n"
     ]
    }
   ],
   "source": [
    "cnt=0\n",
    "try:\n",
    " cnt=int(input('Choose control conditions: input 1-for small groups without healthy,2-for small group with healthy,3-for wide cancer groups with healthy\\n'))\n",
    "except EOFError:\n",
    "     print(\"no data provided to input function\")\n"
   ]
  },
  {
   "cell_type": "code",
   "execution_count": 21,
   "metadata": {
    "id": "5VsYf_80j2Gq"
   },
   "outputs": [],
   "source": [
    "if os.path.exists('data/test.xls'):\n",
    " test=pd.read_excel('data/test.xls').set_index('Unnamed: 0').T\n",
    "else:\n",
    " print('input file test.xls inside') "
   ]
  },
  {
   "cell_type": "code",
   "execution_count": 22,
   "metadata": {
    "colab": {
     "base_uri": "https://localhost:8080/"
    },
    "id": "z3iWne8VKose",
    "outputId": "b7957459-4b84-4dbb-d20c-f19bac3b715a"
   },
   "outputs": [
    {
     "name": "stderr",
     "output_type": "stream",
     "text": [
      "C:\\Users\\USER\\anaconda3\\lib\\site-packages\\sklearn\\base.py:288: UserWarning: Trying to unpickle estimator MinMaxScaler from version 1.0.2 when using version 1.2.0. This might lead to breaking code or invalid results. Use at your own risk. For more info please refer to:\n",
      "https://scikit-learn.org/stable/model_persistence.html#security-maintainability-limitations\n",
      "  warnings.warn(\n",
      "C:\\Users\\USER\\anaconda3\\lib\\site-packages\\sklearn\\base.py:288: UserWarning: Trying to unpickle estimator SelectKBest from version 1.0.2 when using version 1.2.0. This might lead to breaking code or invalid results. Use at your own risk. For more info please refer to:\n",
      "https://scikit-learn.org/stable/model_persistence.html#security-maintainability-limitations\n",
      "  warnings.warn(\n",
      "C:\\Users\\USER\\anaconda3\\lib\\site-packages\\sklearn\\base.py:288: UserWarning: Trying to unpickle estimator PCA from version 1.0.2 when using version 1.2.0. This might lead to breaking code or invalid results. Use at your own risk. For more info please refer to:\n",
      "https://scikit-learn.org/stable/model_persistence.html#security-maintainability-limitations\n",
      "  warnings.warn(\n",
      "C:\\Users\\USER\\anaconda3\\lib\\site-packages\\sklearn\\base.py:288: UserWarning: Trying to unpickle estimator LogisticRegression from version 1.0.2 when using version 1.2.0. This might lead to breaking code or invalid results. Use at your own risk. For more info please refer to:\n",
      "https://scikit-learn.org/stable/model_persistence.html#security-maintainability-limitations\n",
      "  warnings.warn(\n",
      "C:\\Users\\USER\\anaconda3\\lib\\site-packages\\sklearn\\base.py:288: UserWarning: Trying to unpickle estimator GridSearchCV from version 1.0.2 when using version 1.2.0. This might lead to breaking code or invalid results. Use at your own risk. For more info please refer to:\n",
      "https://scikit-learn.org/stable/model_persistence.html#security-maintainability-limitations\n",
      "  warnings.warn(\n"
     ]
    },
    {
     "name": "stdout",
     "output_type": "stream",
     "text": [
      "diagnosis: type of cancer or location of cancer- ['breast']  with probability: 0.6546958443234857\n"
     ]
    }
   ],
   "source": [
    "if os.path.exists('data/test.xls'):\n",
    " if test.shape[0]==1:\n",
    "  if cnt==3: \n",
    "   scaler = pickle.load(open('data/scaler3.sav', 'rb'))\n",
    "   selector = pickle.load(open('data/selector3.sav', 'rb'))\n",
    "   pca_transformer = pickle.load(open('data/pca_transformer3.sav', 'rb'))\n",
    "   probability=0\n",
    "   modellr = pickle.load(open('data/modellr_pca3.sav', 'rb'))\n",
    "   modellr.predict_proba(pca_transformer.transform(scaler.transform(test)))[0].max()\n",
    "   if probability<modellr.predict_proba(pca_transformer.transform(scaler.transform(test)))[0].max():\n",
    "    diagnosis=modellr.predict(pca_transformer.transform(scaler.transform(test)))\n",
    "    probability=modellr.predict_proba(pca_transformer.transform(scaler.transform(test)))[0].max()\n",
    "   print('!!diagnosis: type of cancer or location of cancer- '+str(diagnosis)+'  with probability: '+str(probability))     \n",
    " else:\n",
    "  print('input has to be one column ')           "
   ]
  }
 ],
 "metadata": {
  "colab": {
   "provenance": []
  },
  "kernelspec": {
   "display_name": "Python 3 (ipykernel)",
   "language": "python",
   "name": "python3"
  },
  "language_info": {
   "codemirror_mode": {
    "name": "ipython",
    "version": 3
   },
   "file_extension": ".py",
   "mimetype": "text/x-python",
   "name": "python",
   "nbconvert_exporter": "python",
   "pygments_lexer": "ipython3",
   "version": "3.8.5"
  },
  "vscode": {
   "interpreter": {
    "hash": "263930470851f494f0ed2879c35b57985588df20f9e529b86e97dd5eb9ddc466"
   }
  }
 },
 "nbformat": 4,
 "nbformat_minor": 4
}
