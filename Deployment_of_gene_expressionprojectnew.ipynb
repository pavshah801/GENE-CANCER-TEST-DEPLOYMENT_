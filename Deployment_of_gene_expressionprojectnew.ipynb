{
 "cells": [
  {
   "cell_type": "markdown",
   "metadata": {
    "id": "hVjYPM6u767C"
   },
   "source": [
    "# Libraries and functions"
   ]
  },
  {
   "cell_type": "code",
   "execution_count": null,
   "metadata": {
    "id": "nJ07UbAl767O"
   },
   "outputs": [],
   "source": [
    "import pandas as pd\n",
    "import pickle\n",
    "import os.path\n",
    "from sklearn.linear_model import LogisticRegression\n",
    "from sklearn.ensemble import RandomForestClassifier,AdaBoostClassifier, GradientBoostingClassifier\n",
    "from sklearn.neighbors import KNeighborsClassifier\n",
    "from sklearn.feature_selection import SelectKBest,f_classif\n",
    "from sklearn.tree import DecisionTreeClassifier\n",
    "from sklearn.preprocessing import StandardScaler\n",
    "from sklearn.model_selection import train_test_split, GridSearchCV,RepeatedStratifiedKFold,cross_val_score\n",
    "from sklearn.metrics import log_loss, accuracy_score, classification_report\n",
    "from sklearn.cluster import DBSCAN\n",
    "from sklearn.preprocessing import MinMaxScaler\n",
    "from sklearn.manifold import Isomap\n",
    "from sklearn.decomposition import PCA"
   ]
  },
  {
   "cell_type": "markdown",
   "metadata": {
    "id": "12FNtNKyFisJ"
   },
   "source": [
    "# Deployment"
   ]
  },
  {
   "cell_type": "code",
   "execution_count": null,
   "metadata": {
    "id": "YVLZc749Fp97"
   },
   "outputs": [],
   "source": [
    "cnt=0\n",
    "cnt=int(input('Choose control conditions: input 1-for small groups without healthy,2-for small group with healthy,3-for wide cancer groups with healthy\\n'))"
   ]
  },
  {
   "cell_type": "code",
   "execution_count": null,
   "metadata": {
    "id": "5VsYf_80j2Gq"
   },
   "outputs": [],
   "source": [
    "if os.path.exists('data/test.xls'):\n",
    " test=pd.read_excel('data/test.xls').set_index('Unnamed: 0').T\n",
    "else:\n",
    " print('upload file test.xls inside') "
   ]
  },
  {
   "cell_type": "code",
   "execution_count": null,
   "metadata": {
    "id": "z3iWne8VKose"
   },
   "outputs": [],
   "source": [
    "if os.path.exists('data/test.xls'):\n",
    " if test.shape[0]==1:\n",
    "  if cnt==1: \n",
    "   scaler = pickle.load(open('data/scaler1.sav', 'rb'))\n",
    "   selector = pickle.load(open('data/selector1.sav', 'rb'))\n",
    "   autoencoder = pickle.load(open('data/autoencoder1.sav', 'rb'))\n",
    "   modellr = pickle.load(open('data/modellr_red1.sav', 'rb'))\n",
    "   diagnosis=modellr.predict(selector.transform(scaler.transform(test)))\n",
    "   probability=modellr.predict_proba(selector.transform(scaler.transform(test)))[0].max()\n",
    "   modelrf = pickle.load(open('data/modelrf_red1.sav', 'rb'))\n",
    "   if probability<modelrf.predict_proba(selector.transform(scaler.transform(test)))[0].max():\n",
    "    diagnosis=modelrf.predict(selector.transform(scaler.transform(test)))\n",
    "    probability=modelrf.predict_proba(selector.transform(scaler.transform(test)))[0].max()    \n",
    "   modelxgb = pickle.load(open('data/modelxgb_red1.sav', 'rb'))\n",
    "   if probability<modelxgb.predict_proba(selector.transform(scaler.transform(test)))[0].max():\n",
    "    diagnosis=modelxgb.predict(selector.transform(scaler.transform(test)))\n",
    "    probability=modelxgb.predict_proba(selector.transform(scaler.transform(test)))[0].max()\n",
    "   modellr = pickle.load(open('data/modellr_auto1.sav', 'rb'))\n",
    "   if probability<modellr.predict_proba(autoencoder.predict(scaler.transform(test)))[0].max():\n",
    "    diagnosis=modellr.predict(autoencoder.predict(scaler.transform(test)))\n",
    "    probability=modellr.predict_proba(autoencoder.predict(scaler.transform(test)))[0].max() \n",
    "   modelrf = pickle.load(open('data/modelrf_auto1.sav', 'rb'))\n",
    "   if probability<modelrf.predict_proba(autoencoder.predict(scaler.transform(test)))[0].max():\n",
    "    diagnosis=modelrf.predict(autoencoder.predict(scaler.transform(test)))\n",
    "    probability=modelrf.predict_proba(autoencoder.predict(scaler.transform(test)))[0].max() \n",
    "   print('diagnosis: type of cancer - '+str(diagnosis)+'  with probability: '+str(probability))\n",
    "  elif cnt==2:\n",
    "   scaler = pickle.load(open('data/scaler2.sav', 'rb'))\n",
    "   selector = pickle.load(open('data/selector2.sav', 'rb'))\n",
    "   autoencoder = pickle.load(open('data/autoencoder2.sav', 'rb'))\n",
    "   modellr = pickle.load(open('data/modellr_red2.sav', 'rb'))\n",
    "   diagnosis=modellr.predict(selector.transform(scaler.transform(test)))\n",
    "   probability=modellr.predict_proba(selector.transform(scaler.transform(test)))[0].max()\n",
    "   modelrf = pickle.load(open('data/modelrf_red2.sav', 'rb'))\n",
    "   if probability<modelrf.predict_proba(selector.transform(scaler.transform(test)))[0].max():\n",
    "    diagnosis=modelrf.predict(selector.transform(scaler.transform(test)))\n",
    "    probability=modelrf.predict_proba(selector.transform(scaler.transform(test)))[0].max()    \n",
    "   modelxgb = pickle.load(open('data/modelxgb_red2.sav', 'rb'))\n",
    "   if probability<modelxgb.predict_proba(selector.transform(scaler.transform(test)))[0].max():\n",
    "    diagnosis=modelxgb.predict(selector.transform(scaler.transform(test)))\n",
    "    probability=modelxgb.predict_proba(selector.transform(scaler.transform(test)))[0].max()\n",
    "   modellr = pickle.load(open('data/modellr_auto2.sav', 'rb'))\n",
    "   if probability<modellr.predict_proba(autoencoder.predict(scaler.transform(test)))[0].max():\n",
    "    diagnosis=modellr.predict(autoencoder.predict(scaler.transform(test)))\n",
    "    probability=modellr.predict_proba(autoencoder.predict(scaler.transform(test)))[0].max()  \n",
    "   print('diagnosis: type of cancer- '+str(diagnosis)+'  with probability: '+str(probability)) \n",
    "  elif cnt==3: \n",
    "   scaler = pickle.load(open('data/scaler3.sav', 'rb'))\n",
    "   selector = pickle.load(open('data/selector3.sav', 'rb'))\n",
    "   pca_transformer = pickle.load(open('data/pca_transformer3.sav', 'rb'))\n",
    "   modellr = pickle.load(open('data/modellr_red3.sav', 'rb'))\n",
    "   diagnosis=modellr.predict(selector.transform(scaler.transform(test)))\n",
    "   probability=modellr.predict_proba(selector.transform(scaler.transform(test)))[0].max()\n",
    "   modelrf = pickle.load(open('data/modelrf_red3.sav', 'rb'))\n",
    "   if probability<modelrf.predict_proba(selector.transform(scaler.transform(test)))[0].max():\n",
    "    diagnosis=modelrf.predict(selector.transform(scaler.transform(test)))\n",
    "    probability=modelrf.predict_proba(selector.transform(scaler.transform(test)))[0].max()    \n",
    "   modelxgb = pickle.load(open('data/modelxgb_red3.sav', 'rb'))\n",
    "   if probability<modelxgb.predict_proba(selector.transform(scaler.transform(test)))[0].max():\n",
    "    diagnosis=modelxgb.predict(selector.transform(scaler.transform(test)))\n",
    "    probability=modelxgb.predict_proba(selector.transform(scaler.transform(test)))[0].max()  \n",
    "   modellr = pickle.load(open('data/modellr_pca3.sav', 'rb'))\n",
    "   if probability<modellr.predict_proba(pca_transformer.transform(scaler.transform(test)))[0].max():\n",
    "    diagnosis=modellr.predict(pca_transformer.transform(scaler.transform(test)))\n",
    "    probability=modellr.predict_proba(pca_transformer.transform(scaler.transform(test)))[0].max()\n",
    "   modelrf = pickle.load(open('data/modelrf_pca3.sav', 'rb'))\n",
    "   if probability<modelrf.predict_proba(pca_transformer.transform(scaler.transform(test)))[0].max():\n",
    "    diagnosis=modelrf.predict(pca_transformer.transform(scaler.transform(test)))\n",
    "    probability=modelrf.predict_proba(pca_transformer.transform(scaler.transform(test)))[0].max()    \n",
    "   modelxgb = pickle.load(open('data/modelxgb_pca3.sav', 'rb'))\n",
    "   if probability<modelxgb.predict_proba(pca_transformer.transform(scaler.transform(test)))[0].max():\n",
    "    diagnosis=modelxgb.predict(pca_transformer.transform(scaler.transform(test)))\n",
    "    probability=modelxgb.predict_proba(pca_transformer.transform(scaler.transform(test)))[0].max()   \n",
    "   print('diagnosis: type of cancer or location of cancer- '+str(diagnosis)+'  with probability: '+str(probability))     \n",
    " else:\n",
    "  print('input has to be one column')           "
   ]
  }
 ],
 "metadata": {
  "colab": {
   "provenance": []
  },
  "kernelspec": {
   "display_name": "Python 3 (ipykernel)",
   "language": "python",
   "name": "python3"
  },
  "language_info": {
   "codemirror_mode": {
    "name": "ipython",
    "version": 3
   },
   "file_extension": ".py",
   "mimetype": "text/x-python",
   "name": "python",
   "nbconvert_exporter": "python",
   "pygments_lexer": "ipython3",
   "version": "3.8.5"
  }
 },
 "nbformat": 4,
 "nbformat_minor": 4
}
